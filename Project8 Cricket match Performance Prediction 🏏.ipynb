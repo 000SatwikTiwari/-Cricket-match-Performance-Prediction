{
 "cells": [
  {
   "cell_type": "markdown",
   "id": "b86fc0cf",
   "metadata": {},
   "source": [
    "# About Dataset\n",
    "# Context\n",
    "### This file consists of data from over 500+ cricket matches!\n",
    "### Detailed Bowling Statistics (30columns in Bowl.csv )like runs conceded, mainden, economy, wickets, match date, player name, etc)\n",
    "### Detailed Batting Statistics (28 Columns in bat.csv) like runs scored, #4's, #6's, balls faced, strike rate, how he got out, match id, etc)\n",
    "### Detailed Match Statistics like date, match number, series, format, year are present here\n",
    "\n",
    "### It so so so excited that SO MANY THINGS can be done with this data :) A few things done are listed below.\n",
    "\n",
    "### Vizualizae a players Performance over the years\n",
    "### Predict fantasy points for a player\n",
    "### Find teams performance from over the years\n",
    "### Segregate test, ODi, and t20 Performance for a player\n",
    "### Find interesting statistics\n",
    "### Optimize fantasy teams\n",
    "### Predict Best performers and players for a specific series like IPL 2020.\n",
    "### Content\n",
    "### Go through all the data and you will get ALL THE CRICKET STATS YOU WILL EVER NEED. In total 60+ Columns of data\n",
    "\n",
    "## Acknowledgements\n",
    "#### We wouldn't be here without the help of others. If you owe any attributions or thanks, include them here along with any citations of past research.\n",
    "\n",
    "## Inspiration\n",
    "#### I have co-authored a Research paper using the same data called PrOBML: A machine learning approach to Predict, Optimise & Build fantasy Cricket teams using evolutionary algorithm I would like to see what the Kaggle community can do with this data. Do share and Upvote so that maximum people can make use of this data!"
   ]
  },
  {
   "cell_type": "code",
   "execution_count": 1,
   "id": "3bb7ccde",
   "metadata": {},
   "outputs": [
    {
     "name": "stderr",
     "output_type": "stream",
     "text": [
      "C:\\Anaconda\\lib\\site-packages\\scipy\\__init__.py:155: UserWarning: A NumPy version >=1.18.5 and <1.25.0 is required for this version of SciPy (detected version 1.25.2\n",
      "  warnings.warn(f\"A NumPy version >={np_minversion} and <{np_maxversion}\"\n"
     ]
    }
   ],
   "source": [
    "import pandas as pd\n",
    "import numpy as np\n",
    "import matplotlib.pyplot as plt\n",
    "import seaborn as sns\n",
    "%matplotlib inline\n",
    "from sklearn.ensemble import RandomForestRegressor\n",
    "from sklearn.model_selection import train_test_split\n",
    "from sklearn.metrics import mean_squared_error\n",
    "from sklearn.model_selection import RandomizedSearchCV\n",
    "from sklearn.manifold import TSNE\n",
    "from sklearn.tree import DecisionTreeRegressor\n",
    "from sklearn.tree import DecisionTreeRegressor\n",
    "from sklearn.ensemble import RandomForestRegressor,GradientBoostingRegressor\n",
    "\n",
    "from sklearn.naive_bayes import GaussianNB\n",
    "from sklearn.svm import SVR\n",
    "import statistics as stat\n",
    "from sklearn.impute import SimpleImputer\n",
    "from sklearn.metrics import accuracy_score\n",
    "\n",
    "import warnings\n",
    "warnings.filterwarnings(\"ignore\")"
   ]
  },
  {
   "cell_type": "markdown",
   "id": "c6e83157",
   "metadata": {},
   "source": [
    "## 1. prdicting runrate using match.csv"
   ]
  },
  {
   "cell_type": "markdown",
   "id": "f9e0a6eb",
   "metadata": {},
   "source": [
    "### data preprocessing"
   ]
  },
  {
   "cell_type": "code",
   "execution_count": 2,
   "id": "51190063",
   "metadata": {},
   "outputs": [
    {
     "data": {
      "text/html": [
       "<div>\n",
       "<style scoped>\n",
       "    .dataframe tbody tr th:only-of-type {\n",
       "        vertical-align: middle;\n",
       "    }\n",
       "\n",
       "    .dataframe tbody tr th {\n",
       "        vertical-align: top;\n",
       "    }\n",
       "\n",
       "    .dataframe thead th {\n",
       "        text-align: right;\n",
       "    }\n",
       "</style>\n",
       "<table border=\"1\" class=\"dataframe\">\n",
       "  <thead>\n",
       "    <tr style=\"text-align: right;\">\n",
       "      <th></th>\n",
       "      <th>Unnamed: 0</th>\n",
       "      <th>match_number</th>\n",
       "      <th>name</th>\n",
       "      <th>start_date</th>\n",
       "      <th>matchtype</th>\n",
       "      <th>series_id</th>\n",
       "      <th>match_detail_id</th>\n",
       "      <th>scorecard_id</th>\n",
       "      <th>title</th>\n",
       "      <th>runs</th>\n",
       "      <th>over</th>\n",
       "      <th>run_rate</th>\n",
       "      <th>match_id</th>\n",
       "      <th>opp_team_id</th>\n",
       "      <th>team_id</th>\n",
       "    </tr>\n",
       "  </thead>\n",
       "  <tbody>\n",
       "    <tr>\n",
       "      <th>0</th>\n",
       "      <td>1417</td>\n",
       "      <td>1.0</td>\n",
       "      <td>Bangladesh v India</td>\n",
       "      <td>2004-12-22 18:30:00+00:00</td>\n",
       "      <td>odi</td>\n",
       "      <td>182</td>\n",
       "      <td>773</td>\n",
       "      <td>1495</td>\n",
       "      <td>India Innings</td>\n",
       "      <td>245</td>\n",
       "      <td>50.0</td>\n",
       "      <td>4.90</td>\n",
       "      <td>633</td>\n",
       "      <td>7</td>\n",
       "      <td>2</td>\n",
       "    </tr>\n",
       "    <tr>\n",
       "      <th>1</th>\n",
       "      <td>1418</td>\n",
       "      <td>1.0</td>\n",
       "      <td>Bangladesh v India</td>\n",
       "      <td>2004-12-22 18:30:00+00:00</td>\n",
       "      <td>odi</td>\n",
       "      <td>182</td>\n",
       "      <td>773</td>\n",
       "      <td>1496</td>\n",
       "      <td>Bangladesh Innings</td>\n",
       "      <td>234</td>\n",
       "      <td>50.0</td>\n",
       "      <td>4.68</td>\n",
       "      <td>633</td>\n",
       "      <td>2</td>\n",
       "      <td>7</td>\n",
       "    </tr>\n",
       "    <tr>\n",
       "      <th>2</th>\n",
       "      <td>1419</td>\n",
       "      <td>2.0</td>\n",
       "      <td>Bangladesh v India</td>\n",
       "      <td>2004-12-25 18:30:00+00:00</td>\n",
       "      <td>odi</td>\n",
       "      <td>182</td>\n",
       "      <td>774</td>\n",
       "      <td>1497</td>\n",
       "      <td>Bangladesh Innings</td>\n",
       "      <td>229</td>\n",
       "      <td>50.0</td>\n",
       "      <td>4.58</td>\n",
       "      <td>634</td>\n",
       "      <td>2</td>\n",
       "      <td>7</td>\n",
       "    </tr>\n",
       "    <tr>\n",
       "      <th>3</th>\n",
       "      <td>1420</td>\n",
       "      <td>2.0</td>\n",
       "      <td>Bangladesh v India</td>\n",
       "      <td>2004-12-25 18:30:00+00:00</td>\n",
       "      <td>odi</td>\n",
       "      <td>182</td>\n",
       "      <td>774</td>\n",
       "      <td>1498</td>\n",
       "      <td>India Innings</td>\n",
       "      <td>214</td>\n",
       "      <td>47.5</td>\n",
       "      <td>4.47</td>\n",
       "      <td>634</td>\n",
       "      <td>7</td>\n",
       "      <td>2</td>\n",
       "    </tr>\n",
       "  </tbody>\n",
       "</table>\n",
       "</div>"
      ],
      "text/plain": [
       "   Unnamed: 0  match_number                name                 start_date  \\\n",
       "0        1417           1.0  Bangladesh v India  2004-12-22 18:30:00+00:00   \n",
       "1        1418           1.0  Bangladesh v India  2004-12-22 18:30:00+00:00   \n",
       "2        1419           2.0  Bangladesh v India  2004-12-25 18:30:00+00:00   \n",
       "3        1420           2.0  Bangladesh v India  2004-12-25 18:30:00+00:00   \n",
       "\n",
       "  matchtype  series_id  match_detail_id  scorecard_id               title  \\\n",
       "0       odi        182              773          1495       India Innings   \n",
       "1       odi        182              773          1496  Bangladesh Innings   \n",
       "2       odi        182              774          1497  Bangladesh Innings   \n",
       "3       odi        182              774          1498       India Innings   \n",
       "\n",
       "   runs  over  run_rate  match_id  opp_team_id  team_id  \n",
       "0   245  50.0      4.90       633            7        2  \n",
       "1   234  50.0      4.68       633            2        7  \n",
       "2   229  50.0      4.58       634            2        7  \n",
       "3   214  47.5      4.47       634            7        2  "
      ]
     },
     "execution_count": 2,
     "metadata": {},
     "output_type": "execute_result"
    }
   ],
   "source": [
    "df=pd.read_csv(\"match.csv\")\n",
    "df.head(4)"
   ]
  },
  {
   "cell_type": "code",
   "execution_count": 3,
   "id": "adf2928c",
   "metadata": {},
   "outputs": [
    {
     "data": {
      "text/plain": [
       "Unnamed: 0           int64\n",
       "match_number       float64\n",
       "name                object\n",
       "start_date          object\n",
       "matchtype           object\n",
       "series_id            int64\n",
       "match_detail_id      int64\n",
       "scorecard_id         int64\n",
       "title               object\n",
       "runs                 int64\n",
       "over               float64\n",
       "run_rate           float64\n",
       "match_id             int64\n",
       "opp_team_id          int64\n",
       "team_id              int64\n",
       "dtype: object"
      ]
     },
     "execution_count": 3,
     "metadata": {},
     "output_type": "execute_result"
    }
   ],
   "source": [
    "df.dtypes"
   ]
  },
  {
   "cell_type": "code",
   "execution_count": 4,
   "id": "7fd30ea0",
   "metadata": {},
   "outputs": [
    {
     "data": {
      "text/plain": [
       "Unnamed: 0          0\n",
       "match_number       75\n",
       "name                2\n",
       "start_date          0\n",
       "matchtype           4\n",
       "series_id           0\n",
       "match_detail_id     0\n",
       "scorecard_id        0\n",
       "title               0\n",
       "runs                0\n",
       "over                0\n",
       "run_rate            0\n",
       "match_id            0\n",
       "opp_team_id         0\n",
       "team_id             0\n",
       "dtype: int64"
      ]
     },
     "execution_count": 4,
     "metadata": {},
     "output_type": "execute_result"
    }
   ],
   "source": [
    "df.isnull().sum()"
   ]
  },
  {
   "cell_type": "code",
   "execution_count": 5,
   "id": "7fbbc5d5",
   "metadata": {},
   "outputs": [],
   "source": [
    "imputer=SimpleImputer(missing_values=np.nan,strategy='most_frequent',) #inspite of mean we can use median mode or any\n",
    "imputer.fit(df.iloc[:,1:2].values)\n",
    "x=imputer.transform(df.iloc[:,1:2].values)\n",
    "df.iloc[:,1:2]=x"
   ]
  },
  {
   "cell_type": "code",
   "execution_count": 6,
   "id": "0919d57f",
   "metadata": {},
   "outputs": [],
   "source": [
    "imputer1=SimpleImputer(missing_values=np.nan,strategy='most_frequent',) #inspite of mean we can use median mode or any\n",
    "\n",
    "imputer1.fit(df.iloc[:,4:5].values)\n",
    "x=imputer1.transform(df.iloc[:,4:5].values)\n",
    "df.iloc[:,4:5]=x"
   ]
  },
  {
   "cell_type": "code",
   "execution_count": 7,
   "id": "41164d21",
   "metadata": {},
   "outputs": [],
   "source": [
    "imputer2=SimpleImputer(missing_values=np.nan,strategy='most_frequent',) #inspite of mean we can use median mode or any\n",
    "\n",
    "imputer2.fit(df.iloc[:,2:3].values)\n",
    "x=imputer2.transform(df.iloc[:,2:3].values)\n",
    "df.iloc[:,2:3]=x"
   ]
  },
  {
   "cell_type": "code",
   "execution_count": 8,
   "id": "353d4790",
   "metadata": {},
   "outputs": [
    {
     "data": {
      "text/plain": [
       "Unnamed: 0         0\n",
       "match_number       0\n",
       "name               0\n",
       "start_date         0\n",
       "matchtype          0\n",
       "series_id          0\n",
       "match_detail_id    0\n",
       "scorecard_id       0\n",
       "title              0\n",
       "runs               0\n",
       "over               0\n",
       "run_rate           0\n",
       "match_id           0\n",
       "opp_team_id        0\n",
       "team_id            0\n",
       "dtype: int64"
      ]
     },
     "execution_count": 8,
     "metadata": {},
     "output_type": "execute_result"
    }
   ],
   "source": [
    "df.isnull().sum()"
   ]
  },
  {
   "cell_type": "code",
   "execution_count": 9,
   "id": "1d54a5f8",
   "metadata": {},
   "outputs": [],
   "source": [
    "df[\"over\"]=df[\"over\"].astype(int)\n",
    "df[\"run_rate\"]=df[\"run_rate\"].astype(int)"
   ]
  },
  {
   "cell_type": "markdown",
   "id": "4375e237",
   "metadata": {},
   "source": [
    "### visualization"
   ]
  },
  {
   "cell_type": "code",
   "execution_count": null,
   "id": "eb7b015f",
   "metadata": {},
   "outputs": [],
   "source": [
    "df.columns"
   ]
  },
  {
   "cell_type": "code",
   "execution_count": null,
   "id": "b9c964bd",
   "metadata": {},
   "outputs": [],
   "source": [
    "df.head(1)"
   ]
  },
  {
   "cell_type": "code",
   "execution_count": null,
   "id": "782e32de",
   "metadata": {},
   "outputs": [],
   "source": [
    "df.groupby(\"matchtype\").size().plot(kind = 'bar')"
   ]
  },
  {
   "cell_type": "code",
   "execution_count": null,
   "id": "8ced0b4c",
   "metadata": {},
   "outputs": [],
   "source": [
    "df.groupby(\"title\").size().plot(kind = 'bar')"
   ]
  },
  {
   "cell_type": "code",
   "execution_count": null,
   "id": "fb716692",
   "metadata": {},
   "outputs": [],
   "source": [
    "df.groupby(\"run_rate\").size().plot(kind = 'bar')"
   ]
  },
  {
   "cell_type": "code",
   "execution_count": null,
   "id": "059b7955",
   "metadata": {},
   "outputs": [],
   "source": [
    "sns.countplot(x = \"run_rate\", hue = 'matchtype', data = df)"
   ]
  },
  {
   "cell_type": "markdown",
   "id": "3cc9c93b",
   "metadata": {},
   "source": [
    "### prediction of run rate"
   ]
  },
  {
   "cell_type": "code",
   "execution_count": 10,
   "id": "806a73de",
   "metadata": {},
   "outputs": [],
   "source": [
    "x=df[[\"runs\",\"over\"]]\n",
    "y=df[[\"run_rate\"]]"
   ]
  },
  {
   "cell_type": "code",
   "execution_count": 11,
   "id": "44dd4158",
   "metadata": {},
   "outputs": [],
   "source": [
    "from sklearn.ensemble import RandomForestRegressor\n",
    "from sklearn.preprocessing import StandardScaler\n",
    "\n",
    "sc_x = StandardScaler()\n",
    "x = sc_x.fit_transform(x)"
   ]
  },
  {
   "cell_type": "code",
   "execution_count": 12,
   "id": "49863de4",
   "metadata": {},
   "outputs": [],
   "source": [
    "xtrain, xtest, ytrain, ytest = train_test_split(x, y, test_size = 0.3,random_state=1000)\n"
   ]
  },
  {
   "cell_type": "code",
   "execution_count": 13,
   "id": "0faf68ac",
   "metadata": {},
   "outputs": [],
   "source": [
    "rf_regressor=RandomForestRegressor(n_estimators=1000,random_state=50)\n",
    "svc_regressor=SVR()\n",
    "dt_regressor=DecisionTreeRegressor()"
   ]
  },
  {
   "cell_type": "code",
   "execution_count": 14,
   "id": "4a29461f",
   "metadata": {},
   "outputs": [
    {
     "data": {
      "text/plain": [
       "RandomForestRegressor(n_estimators=1000, random_state=50)"
      ]
     },
     "execution_count": 14,
     "metadata": {},
     "output_type": "execute_result"
    }
   ],
   "source": [
    "svc_regressor.fit(xtrain, ytrain)\n",
    "dt_regressor.fit(xtrain, ytrain)\n",
    "rf_regressor.fit(xtrain, ytrain)\n"
   ]
  },
  {
   "cell_type": "code",
   "execution_count": 15,
   "id": "c41b5bd5",
   "metadata": {},
   "outputs": [],
   "source": [
    "svc_reg_ypred = svc_regressor.predict(xtest)\n",
    "dt_reg_ypred = dt_regressor.predict(xtest)\n",
    "rf_reg_ypred = rf_regressor.predict(xtest)"
   ]
  },
  {
   "cell_type": "code",
   "execution_count": 16,
   "id": "76b0ab27",
   "metadata": {},
   "outputs": [],
   "source": [
    "# finding error\n",
    "svc_reg_err = mean_squared_error(ytest, svc_reg_ypred)\n",
    "dt_reg_err = mean_squared_error(ytest, dt_reg_ypred)\n",
    "rf_reg_err = mean_squared_error(ytest, rf_reg_ypred)"
   ]
  },
  {
   "cell_type": "code",
   "execution_count": 17,
   "id": "eb5b38d7",
   "metadata": {},
   "outputs": [
    {
     "name": "stdout",
     "output_type": "stream",
     "text": [
      "Decision Tree error                :  0.15\n",
      "Random Forest error                :  0.08\n",
      "Support Vector Machine error       :  0.29\n"
     ]
    }
   ],
   "source": [
    "print (\"Decision Tree error                : \", round(dt_reg_err, 2))\n",
    "print (\"Random Forest error                : \", round(rf_reg_err, 2)) \n",
    "print (\"Support Vector Machine error       : \", round(svc_reg_err, 2)) "
   ]
  },
  {
   "cell_type": "markdown",
   "id": "ba58bc40",
   "metadata": {},
   "source": [
    "## 2.prediction of bowlers economy using ball.csv\n"
   ]
  },
  {
   "cell_type": "code",
   "execution_count": 18,
   "id": "c5d71237",
   "metadata": {},
   "outputs": [],
   "source": [
    "df1=pd.read_csv(\"ball.csv\")"
   ]
  },
  {
   "cell_type": "code",
   "execution_count": 19,
   "id": "28285d3d",
   "metadata": {},
   "outputs": [
    {
     "data": {
      "text/html": [
       "<div>\n",
       "<style scoped>\n",
       "    .dataframe tbody tr th:only-of-type {\n",
       "        vertical-align: middle;\n",
       "    }\n",
       "\n",
       "    .dataframe tbody tr th {\n",
       "        vertical-align: top;\n",
       "    }\n",
       "\n",
       "    .dataframe thead th {\n",
       "        text-align: right;\n",
       "    }\n",
       "</style>\n",
       "<table border=\"1\" class=\"dataframe\">\n",
       "  <thead>\n",
       "    <tr style=\"text-align: right;\">\n",
       "      <th></th>\n",
       "      <th>Unnamed: 0</th>\n",
       "      <th>name_x</th>\n",
       "      <th>playing_role</th>\n",
       "      <th>id</th>\n",
       "      <th>order</th>\n",
       "      <th>run_conceded</th>\n",
       "      <th>maidens</th>\n",
       "      <th>wickets</th>\n",
       "      <th>overs</th>\n",
       "      <th>economy</th>\n",
       "      <th>...</th>\n",
       "      <th>matchtype</th>\n",
       "      <th>series_id</th>\n",
       "      <th>match_detail_id</th>\n",
       "      <th>title</th>\n",
       "      <th>runs</th>\n",
       "      <th>over</th>\n",
       "      <th>run_rate</th>\n",
       "      <th>match_id</th>\n",
       "      <th>opp_team_id</th>\n",
       "      <th>team_id</th>\n",
       "    </tr>\n",
       "  </thead>\n",
       "  <tbody>\n",
       "    <tr>\n",
       "      <th>0</th>\n",
       "      <td>8526</td>\n",
       "      <td>Ajit Agarkar</td>\n",
       "      <td>BOWL</td>\n",
       "      <td>8544</td>\n",
       "      <td>2</td>\n",
       "      <td>51</td>\n",
       "      <td>0</td>\n",
       "      <td>2</td>\n",
       "      <td>10.0</td>\n",
       "      <td>5.10</td>\n",
       "      <td>...</td>\n",
       "      <td>odi</td>\n",
       "      <td>182</td>\n",
       "      <td>773</td>\n",
       "      <td>Bangladesh Innings</td>\n",
       "      <td>234</td>\n",
       "      <td>50.0</td>\n",
       "      <td>4.68</td>\n",
       "      <td>633</td>\n",
       "      <td>2</td>\n",
       "      <td>7</td>\n",
       "    </tr>\n",
       "    <tr>\n",
       "      <th>1</th>\n",
       "      <td>8518</td>\n",
       "      <td>Tapash Baisya</td>\n",
       "      <td>NaN</td>\n",
       "      <td>8536</td>\n",
       "      <td>0</td>\n",
       "      <td>67</td>\n",
       "      <td>0</td>\n",
       "      <td>2</td>\n",
       "      <td>10.0</td>\n",
       "      <td>6.70</td>\n",
       "      <td>...</td>\n",
       "      <td>odi</td>\n",
       "      <td>182</td>\n",
       "      <td>773</td>\n",
       "      <td>India Innings</td>\n",
       "      <td>245</td>\n",
       "      <td>50.0</td>\n",
       "      <td>4.90</td>\n",
       "      <td>633</td>\n",
       "      <td>7</td>\n",
       "      <td>2</td>\n",
       "    </tr>\n",
       "    <tr>\n",
       "      <th>2</th>\n",
       "      <td>8519</td>\n",
       "      <td>Mushfiqur Rahman</td>\n",
       "      <td>NaN</td>\n",
       "      <td>8537</td>\n",
       "      <td>1</td>\n",
       "      <td>29</td>\n",
       "      <td>0</td>\n",
       "      <td>1</td>\n",
       "      <td>6.0</td>\n",
       "      <td>4.83</td>\n",
       "      <td>...</td>\n",
       "      <td>odi</td>\n",
       "      <td>182</td>\n",
       "      <td>773</td>\n",
       "      <td>India Innings</td>\n",
       "      <td>245</td>\n",
       "      <td>50.0</td>\n",
       "      <td>4.90</td>\n",
       "      <td>633</td>\n",
       "      <td>7</td>\n",
       "      <td>2</td>\n",
       "    </tr>\n",
       "    <tr>\n",
       "      <th>3</th>\n",
       "      <td>8520</td>\n",
       "      <td>Nazmul Hossain</td>\n",
       "      <td>BOWL</td>\n",
       "      <td>8538</td>\n",
       "      <td>2</td>\n",
       "      <td>39</td>\n",
       "      <td>1</td>\n",
       "      <td>2</td>\n",
       "      <td>9.0</td>\n",
       "      <td>4.33</td>\n",
       "      <td>...</td>\n",
       "      <td>odi</td>\n",
       "      <td>182</td>\n",
       "      <td>773</td>\n",
       "      <td>India Innings</td>\n",
       "      <td>245</td>\n",
       "      <td>50.0</td>\n",
       "      <td>4.90</td>\n",
       "      <td>633</td>\n",
       "      <td>7</td>\n",
       "      <td>2</td>\n",
       "    </tr>\n",
       "    <tr>\n",
       "      <th>4</th>\n",
       "      <td>8521</td>\n",
       "      <td>Khaled Mahmud</td>\n",
       "      <td>NaN</td>\n",
       "      <td>8539</td>\n",
       "      <td>3</td>\n",
       "      <td>43</td>\n",
       "      <td>0</td>\n",
       "      <td>1</td>\n",
       "      <td>10.0</td>\n",
       "      <td>4.30</td>\n",
       "      <td>...</td>\n",
       "      <td>odi</td>\n",
       "      <td>182</td>\n",
       "      <td>773</td>\n",
       "      <td>India Innings</td>\n",
       "      <td>245</td>\n",
       "      <td>50.0</td>\n",
       "      <td>4.90</td>\n",
       "      <td>633</td>\n",
       "      <td>7</td>\n",
       "      <td>2</td>\n",
       "    </tr>\n",
       "    <tr>\n",
       "      <th>...</th>\n",
       "      <td>...</td>\n",
       "      <td>...</td>\n",
       "      <td>...</td>\n",
       "      <td>...</td>\n",
       "      <td>...</td>\n",
       "      <td>...</td>\n",
       "      <td>...</td>\n",
       "      <td>...</td>\n",
       "      <td>...</td>\n",
       "      <td>...</td>\n",
       "      <td>...</td>\n",
       "      <td>...</td>\n",
       "      <td>...</td>\n",
       "      <td>...</td>\n",
       "      <td>...</td>\n",
       "      <td>...</td>\n",
       "      <td>...</td>\n",
       "      <td>...</td>\n",
       "      <td>...</td>\n",
       "      <td>...</td>\n",
       "      <td>...</td>\n",
       "    </tr>\n",
       "    <tr>\n",
       "      <th>36144</th>\n",
       "      <td>36090</td>\n",
       "      <td>Daniel Worrall</td>\n",
       "      <td>BOWL</td>\n",
       "      <td>36167</td>\n",
       "      <td>0</td>\n",
       "      <td>28</td>\n",
       "      <td>1</td>\n",
       "      <td>2</td>\n",
       "      <td>4.0</td>\n",
       "      <td>7.00</td>\n",
       "      <td>...</td>\n",
       "      <td>t20</td>\n",
       "      <td>505</td>\n",
       "      <td>2927</td>\n",
       "      <td>Melbourne Stars Innings</td>\n",
       "      <td>149</td>\n",
       "      <td>20.0</td>\n",
       "      <td>7.45</td>\n",
       "      <td>2930</td>\n",
       "      <td>37</td>\n",
       "      <td>35</td>\n",
       "    </tr>\n",
       "    <tr>\n",
       "      <th>36145</th>\n",
       "      <td>36086</td>\n",
       "      <td>Harry Conway</td>\n",
       "      <td>NaN</td>\n",
       "      <td>36168</td>\n",
       "      <td>1</td>\n",
       "      <td>29</td>\n",
       "      <td>0</td>\n",
       "      <td>1</td>\n",
       "      <td>4.0</td>\n",
       "      <td>7.25</td>\n",
       "      <td>...</td>\n",
       "      <td>t20</td>\n",
       "      <td>505</td>\n",
       "      <td>2927</td>\n",
       "      <td>Melbourne Stars Innings</td>\n",
       "      <td>149</td>\n",
       "      <td>20.0</td>\n",
       "      <td>7.45</td>\n",
       "      <td>2930</td>\n",
       "      <td>37</td>\n",
       "      <td>35</td>\n",
       "    </tr>\n",
       "    <tr>\n",
       "      <th>36146</th>\n",
       "      <td>36087</td>\n",
       "      <td>Wes Agar</td>\n",
       "      <td>NaN</td>\n",
       "      <td>36169</td>\n",
       "      <td>2</td>\n",
       "      <td>19</td>\n",
       "      <td>1</td>\n",
       "      <td>2</td>\n",
       "      <td>4.0</td>\n",
       "      <td>4.75</td>\n",
       "      <td>...</td>\n",
       "      <td>t20</td>\n",
       "      <td>505</td>\n",
       "      <td>2927</td>\n",
       "      <td>Melbourne Stars Innings</td>\n",
       "      <td>149</td>\n",
       "      <td>20.0</td>\n",
       "      <td>7.45</td>\n",
       "      <td>2930</td>\n",
       "      <td>37</td>\n",
       "      <td>35</td>\n",
       "    </tr>\n",
       "    <tr>\n",
       "      <th>36147</th>\n",
       "      <td>36088</td>\n",
       "      <td>Rashid Khan</td>\n",
       "      <td>BOWL</td>\n",
       "      <td>36170</td>\n",
       "      <td>3</td>\n",
       "      <td>29</td>\n",
       "      <td>0</td>\n",
       "      <td>2</td>\n",
       "      <td>4.0</td>\n",
       "      <td>7.25</td>\n",
       "      <td>...</td>\n",
       "      <td>t20</td>\n",
       "      <td>505</td>\n",
       "      <td>2927</td>\n",
       "      <td>Melbourne Stars Innings</td>\n",
       "      <td>149</td>\n",
       "      <td>20.0</td>\n",
       "      <td>7.45</td>\n",
       "      <td>2930</td>\n",
       "      <td>37</td>\n",
       "      <td>35</td>\n",
       "    </tr>\n",
       "    <tr>\n",
       "      <th>36148</th>\n",
       "      <td>36089</td>\n",
       "      <td>Danny Briggs</td>\n",
       "      <td>BOWL</td>\n",
       "      <td>36171</td>\n",
       "      <td>4</td>\n",
       "      <td>41</td>\n",
       "      <td>0</td>\n",
       "      <td>0</td>\n",
       "      <td>4.0</td>\n",
       "      <td>10.25</td>\n",
       "      <td>...</td>\n",
       "      <td>t20</td>\n",
       "      <td>505</td>\n",
       "      <td>2927</td>\n",
       "      <td>Melbourne Stars Innings</td>\n",
       "      <td>149</td>\n",
       "      <td>20.0</td>\n",
       "      <td>7.45</td>\n",
       "      <td>2930</td>\n",
       "      <td>37</td>\n",
       "      <td>35</td>\n",
       "    </tr>\n",
       "  </tbody>\n",
       "</table>\n",
       "<p>36149 rows × 30 columns</p>\n",
       "</div>"
      ],
      "text/plain": [
       "       Unnamed: 0            name_x playing_role     id  order  run_conceded  \\\n",
       "0            8526      Ajit Agarkar         BOWL   8544      2            51   \n",
       "1            8518     Tapash Baisya          NaN   8536      0            67   \n",
       "2            8519  Mushfiqur Rahman          NaN   8537      1            29   \n",
       "3            8520    Nazmul Hossain         BOWL   8538      2            39   \n",
       "4            8521     Khaled Mahmud          NaN   8539      3            43   \n",
       "...           ...               ...          ...    ...    ...           ...   \n",
       "36144       36090    Daniel Worrall         BOWL  36167      0            28   \n",
       "36145       36086      Harry Conway          NaN  36168      1            29   \n",
       "36146       36087          Wes Agar          NaN  36169      2            19   \n",
       "36147       36088       Rashid Khan         BOWL  36170      3            29   \n",
       "36148       36089      Danny Briggs         BOWL  36171      4            41   \n",
       "\n",
       "       maidens  wickets  overs  economy  ...  matchtype  series_id  \\\n",
       "0            0        2   10.0     5.10  ...        odi        182   \n",
       "1            0        2   10.0     6.70  ...        odi        182   \n",
       "2            0        1    6.0     4.83  ...        odi        182   \n",
       "3            1        2    9.0     4.33  ...        odi        182   \n",
       "4            0        1   10.0     4.30  ...        odi        182   \n",
       "...        ...      ...    ...      ...  ...        ...        ...   \n",
       "36144        1        2    4.0     7.00  ...        t20        505   \n",
       "36145        0        1    4.0     7.25  ...        t20        505   \n",
       "36146        1        2    4.0     4.75  ...        t20        505   \n",
       "36147        0        2    4.0     7.25  ...        t20        505   \n",
       "36148        0        0    4.0    10.25  ...        t20        505   \n",
       "\n",
       "       match_detail_id                    title  runs  over  run_rate  \\\n",
       "0                  773       Bangladesh Innings   234  50.0      4.68   \n",
       "1                  773            India Innings   245  50.0      4.90   \n",
       "2                  773            India Innings   245  50.0      4.90   \n",
       "3                  773            India Innings   245  50.0      4.90   \n",
       "4                  773            India Innings   245  50.0      4.90   \n",
       "...                ...                      ...   ...   ...       ...   \n",
       "36144             2927  Melbourne Stars Innings   149  20.0      7.45   \n",
       "36145             2927  Melbourne Stars Innings   149  20.0      7.45   \n",
       "36146             2927  Melbourne Stars Innings   149  20.0      7.45   \n",
       "36147             2927  Melbourne Stars Innings   149  20.0      7.45   \n",
       "36148             2927  Melbourne Stars Innings   149  20.0      7.45   \n",
       "\n",
       "       match_id opp_team_id team_id  \n",
       "0           633           2       7  \n",
       "1           633           7       2  \n",
       "2           633           7       2  \n",
       "3           633           7       2  \n",
       "4           633           7       2  \n",
       "...         ...         ...     ...  \n",
       "36144      2930          37      35  \n",
       "36145      2930          37      35  \n",
       "36146      2930          37      35  \n",
       "36147      2930          37      35  \n",
       "36148      2930          37      35  \n",
       "\n",
       "[36149 rows x 30 columns]"
      ]
     },
     "execution_count": 19,
     "metadata": {},
     "output_type": "execute_result"
    }
   ],
   "source": [
    "df1"
   ]
  },
  {
   "cell_type": "code",
   "execution_count": 20,
   "id": "9aa69985",
   "metadata": {},
   "outputs": [
    {
     "data": {
      "text/plain": [
       "Unnamed: 0             0\n",
       "name_x                 0\n",
       "playing_role        1257\n",
       "id                     0\n",
       "order                  0\n",
       "run_conceded           0\n",
       "maidens                0\n",
       "wickets                0\n",
       "overs                  0\n",
       "economy                0\n",
       "wides                  0\n",
       "no_balls               0\n",
       "fours              36134\n",
       "sixes              36134\n",
       "zeros              36134\n",
       "player_id              0\n",
       "scorecard_id           0\n",
       "match_number         436\n",
       "name_y                12\n",
       "start_date             0\n",
       "matchtype             16\n",
       "series_id              0\n",
       "match_detail_id        0\n",
       "title                  0\n",
       "runs                   0\n",
       "over                   0\n",
       "run_rate               0\n",
       "match_id               0\n",
       "opp_team_id            0\n",
       "team_id                0\n",
       "dtype: int64"
      ]
     },
     "execution_count": 20,
     "metadata": {},
     "output_type": "execute_result"
    }
   ],
   "source": [
    "df1.isnull().sum()"
   ]
  },
  {
   "cell_type": "markdown",
   "id": "fcdece67",
   "metadata": {},
   "source": [
    "## handeling null values"
   ]
  },
  {
   "cell_type": "code",
   "execution_count": 21,
   "id": "c17ec8a6",
   "metadata": {},
   "outputs": [],
   "source": [
    "im1=SimpleImputer(missing_values=np.nan,strategy='most_frequent',) #inspite of mean we can use median mode or any\n",
    "im1.fit(df1.iloc[:,12:13].values)\n",
    "x=im1.transform(df1.iloc[:,12:13].values)\n",
    "df1.iloc[:,12:13]=x"
   ]
  },
  {
   "cell_type": "code",
   "execution_count": 22,
   "id": "8417d7c7",
   "metadata": {},
   "outputs": [],
   "source": [
    "im3=SimpleImputer(missing_values=np.nan,strategy='most_frequent',) #inspite of mean we can use median mode or any\n",
    "im3.fit(df1.iloc[:,13:14].values)\n",
    "x=im3.transform(df1.iloc[:,13:14].values)\n",
    "df1.iloc[:,13:14]=x"
   ]
  },
  {
   "cell_type": "code",
   "execution_count": 23,
   "id": "1b846334",
   "metadata": {},
   "outputs": [],
   "source": [
    "im2=SimpleImputer(missing_values=np.nan,strategy='most_frequent',) #inspite of mean we can use median mode or any\n",
    "im2.fit(df1.iloc[:,2:3].values)\n",
    "x=im2.transform(df1.iloc[:,2:3].values)\n",
    "df1.iloc[:,2:3]=x"
   ]
  },
  {
   "cell_type": "code",
   "execution_count": 24,
   "id": "2e365b31",
   "metadata": {},
   "outputs": [],
   "source": [
    "im4=SimpleImputer(missing_values=np.nan,strategy='most_frequent',) #inspite of mean we can use median mode or any\n",
    "im4.fit(df1.iloc[:,14:15].values)\n",
    "x=im4.transform(df1.iloc[:,14:15].values)\n",
    "df1.iloc[:,14:15]=x"
   ]
  },
  {
   "cell_type": "code",
   "execution_count": 25,
   "id": "3b073d25",
   "metadata": {},
   "outputs": [],
   "source": [
    "im5=SimpleImputer(missing_values=np.nan,strategy='most_frequent',) #inspite of mean we can use median mode or any\n",
    "im5.fit(df1.iloc[:,17:18].values)\n",
    "x=im5.transform(df1.iloc[:,17:18].values)\n",
    "df1.iloc[:,17:18]=x"
   ]
  },
  {
   "cell_type": "code",
   "execution_count": 26,
   "id": "47d183cd",
   "metadata": {},
   "outputs": [],
   "source": [
    "im6=SimpleImputer(missing_values=np.nan,strategy='most_frequent',) #inspite of mean we can use median mode or any\n",
    "im6.fit(df1.iloc[:,18:19].values)\n",
    "x=im6.transform(df1.iloc[:,18:19].values)\n",
    "df1.iloc[:,18:19]=x"
   ]
  },
  {
   "cell_type": "code",
   "execution_count": 27,
   "id": "25eb05fb",
   "metadata": {},
   "outputs": [],
   "source": [
    "im7=SimpleImputer(missing_values=np.nan,strategy='most_frequent',) #inspite of mean we can use median mode or any\n",
    "im7.fit(df1.iloc[:,20:21].values)\n",
    "x=im7.transform(df1.iloc[:,20:21].values)\n",
    "df1.iloc[:,20:21]=x"
   ]
  },
  {
   "cell_type": "code",
   "execution_count": 28,
   "id": "0441d9df",
   "metadata": {},
   "outputs": [
    {
     "data": {
      "text/plain": [
       "Unnamed: 0         0\n",
       "name_x             0\n",
       "playing_role       0\n",
       "id                 0\n",
       "order              0\n",
       "run_conceded       0\n",
       "maidens            0\n",
       "wickets            0\n",
       "overs              0\n",
       "economy            0\n",
       "wides              0\n",
       "no_balls           0\n",
       "fours              0\n",
       "sixes              0\n",
       "zeros              0\n",
       "player_id          0\n",
       "scorecard_id       0\n",
       "match_number       0\n",
       "name_y             0\n",
       "start_date         0\n",
       "matchtype          0\n",
       "series_id          0\n",
       "match_detail_id    0\n",
       "title              0\n",
       "runs               0\n",
       "over               0\n",
       "run_rate           0\n",
       "match_id           0\n",
       "opp_team_id        0\n",
       "team_id            0\n",
       "dtype: int64"
      ]
     },
     "execution_count": 28,
     "metadata": {},
     "output_type": "execute_result"
    }
   ],
   "source": [
    "df1.isnull().sum()"
   ]
  },
  {
   "cell_type": "code",
   "execution_count": 29,
   "id": "99980dc2",
   "metadata": {},
   "outputs": [
    {
     "data": {
      "text/plain": [
       "Unnamed: 0           int64\n",
       "name_x              object\n",
       "playing_role        object\n",
       "id                   int64\n",
       "order                int64\n",
       "run_conceded         int64\n",
       "maidens              int64\n",
       "wickets              int64\n",
       "overs              float64\n",
       "economy            float64\n",
       "wides                int64\n",
       "no_balls             int64\n",
       "fours              float64\n",
       "sixes              float64\n",
       "zeros              float64\n",
       "player_id            int64\n",
       "scorecard_id         int64\n",
       "match_number       float64\n",
       "name_y              object\n",
       "start_date          object\n",
       "matchtype           object\n",
       "series_id            int64\n",
       "match_detail_id      int64\n",
       "title               object\n",
       "runs                 int64\n",
       "over               float64\n",
       "run_rate           float64\n",
       "match_id             int64\n",
       "opp_team_id          int64\n",
       "team_id              int64\n",
       "dtype: object"
      ]
     },
     "execution_count": 29,
     "metadata": {},
     "output_type": "execute_result"
    }
   ],
   "source": [
    "df1.dtypes"
   ]
  },
  {
   "cell_type": "code",
   "execution_count": 30,
   "id": "a8db9a4d",
   "metadata": {},
   "outputs": [],
   "source": [
    "df1[\"overs\"]=df1[\"overs\"].astype(int)\n",
    "df1[\"economy\"]=df1[\"economy\"].astype(int)\n",
    "df1[\"fours\"]=df1[\"fours\"].astype(int)\n",
    "df1[\"sixes\"]=df1[\"sixes\"].astype(int)\n",
    "df1[\"zeros\"]=df1[\"zeros\"].astype(int)\n",
    "df1[\"match_number\"]=df1[\"match_number\"].astype(int)\n",
    "df1[\"over\"]=df1[\"over\"].astype(int)\n",
    "df1[\"run_rate\"]=df1[\"run_rate\"].astype(int)\n"
   ]
  },
  {
   "cell_type": "code",
   "execution_count": 31,
   "id": "ac3afc2a",
   "metadata": {},
   "outputs": [
    {
     "data": {
      "text/plain": [
       "Unnamed: 0          int64\n",
       "name_x             object\n",
       "playing_role       object\n",
       "id                  int64\n",
       "order               int64\n",
       "run_conceded        int64\n",
       "maidens             int64\n",
       "wickets             int64\n",
       "overs               int32\n",
       "economy             int32\n",
       "wides               int64\n",
       "no_balls            int64\n",
       "fours               int32\n",
       "sixes               int32\n",
       "zeros               int32\n",
       "player_id           int64\n",
       "scorecard_id        int64\n",
       "match_number        int32\n",
       "name_y             object\n",
       "start_date         object\n",
       "matchtype          object\n",
       "series_id           int64\n",
       "match_detail_id     int64\n",
       "title              object\n",
       "runs                int64\n",
       "over                int32\n",
       "run_rate            int32\n",
       "match_id            int64\n",
       "opp_team_id         int64\n",
       "team_id             int64\n",
       "dtype: object"
      ]
     },
     "execution_count": 31,
     "metadata": {},
     "output_type": "execute_result"
    }
   ],
   "source": [
    "df1.dtypes"
   ]
  },
  {
   "cell_type": "markdown",
   "id": "34d25e82",
   "metadata": {},
   "source": [
    "## visualization"
   ]
  },
  {
   "cell_type": "markdown",
   "id": "fb2c1fec",
   "metadata": {},
   "source": [
    "#### using tsne"
   ]
  },
  {
   "cell_type": "code",
   "execution_count": null,
   "id": "955b2c55",
   "metadata": {},
   "outputs": [],
   "source": []
  },
  {
   "cell_type": "code",
   "execution_count": null,
   "id": "9ae5ef6c",
   "metadata": {},
   "outputs": [],
   "source": [
    "xtsne=df1[[\"run_conceded\",\"maidens\",\"wickets\",\"overs\",\"wides\",\"no_balls\",\"fours\",\"sixes\",\"zeros\",\"player_id\",\"scorecard_id\",\"match_number\",\"series_id\",\"match_detail_id\",\"runs\",\"over\",\"match_id\",\"opp_team_id\",\"team_id\"]]"
   ]
  },
  {
   "cell_type": "code",
   "execution_count": null,
   "id": "734f49da",
   "metadata": {},
   "outputs": [],
   "source": [
    "ytsne=df1[[\"economy\"]]"
   ]
  },
  {
   "cell_type": "code",
   "execution_count": null,
   "id": "2a584357",
   "metadata": {},
   "outputs": [],
   "source": [
    "tsne=TSNE(n_components=2,random_state=0,n_iter=1000).fit_transform(xtsne)"
   ]
  },
  {
   "cell_type": "code",
   "execution_count": null,
   "id": "16b01c98",
   "metadata": {},
   "outputs": [],
   "source": [
    "plt.figure(figsize=(12,8))\n",
    "sns.scatterplot(x=tsne[:,0],y=tsne[:,1],hue=df1['economy'])\n",
    "plt.show()"
   ]
  },
  {
   "cell_type": "markdown",
   "id": "a31ef0c0",
   "metadata": {},
   "source": [
    "### corelation matrix using heatmap"
   ]
  },
  {
   "cell_type": "code",
   "execution_count": null,
   "id": "f4d1626a",
   "metadata": {},
   "outputs": [],
   "source": [
    "plt.figure(figsize=(12, 10))\n",
    "heatmap = sns.heatmap(df1[[\"run_conceded\",\"maidens\",\"wickets\",\"overs\",\"wides\",\"no_balls\",\"fours\",\"sixes\",\"zeros\",\"player_id\",\"scorecard_id\",\"match_number\",\"series_id\",\"match_detail_id\",\"runs\",\"over\",\"match_id\",\"opp_team_id\",\"team_id\",\"economy\"]].corr(), annot=True,linewidths=2)\n"
   ]
  },
  {
   "cell_type": "code",
   "execution_count": null,
   "id": "b49e81c3",
   "metadata": {},
   "outputs": [],
   "source": []
  },
  {
   "cell_type": "markdown",
   "id": "fa208886",
   "metadata": {},
   "source": [
    "# bar graphs and pie graphs"
   ]
  },
  {
   "cell_type": "code",
   "execution_count": null,
   "id": "00606d97",
   "metadata": {},
   "outputs": [],
   "source": [
    "df1.columns"
   ]
  },
  {
   "cell_type": "code",
   "execution_count": null,
   "id": "657762ad",
   "metadata": {},
   "outputs": [],
   "source": [
    "df1.groupby(\"matchtype\").size().plot(kind = 'bar')"
   ]
  },
  {
   "cell_type": "code",
   "execution_count": null,
   "id": "c0e4f269",
   "metadata": {},
   "outputs": [],
   "source": [
    "df1.groupby(\"title\").size().plot(kind = 'bar')\n",
    "sns.set(rc={'figure.figsize':(10.7,20.27)})"
   ]
  },
  {
   "cell_type": "code",
   "execution_count": null,
   "id": "cf7a1937",
   "metadata": {},
   "outputs": [],
   "source": [
    "df1.groupby(\"economy\").size().plot(kind = 'bar')"
   ]
  },
  {
   "cell_type": "code",
   "execution_count": null,
   "id": "4db9c9f1",
   "metadata": {},
   "outputs": [],
   "source": [
    "sns.countplot(x = \"economy\", hue = 'matchtype', data = df1)\n",
    "sns.set(rc={'figure.figsize':(10.7,12.27)})"
   ]
  },
  {
   "cell_type": "code",
   "execution_count": null,
   "id": "07519410",
   "metadata": {},
   "outputs": [],
   "source": [
    "sns.countplot(x = \"wides\", hue = 'economy', data = df1)\n",
    "sns.set(rc={'figure.figsize':(16.7,165.27)})"
   ]
  },
  {
   "cell_type": "markdown",
   "id": "d6ba913b",
   "metadata": {},
   "source": [
    "### prediction of ecnomy"
   ]
  },
  {
   "cell_type": "code",
   "execution_count": 32,
   "id": "788e72d4",
   "metadata": {},
   "outputs": [],
   "source": [
    "x=df1[[\"run_conceded\",\"maidens\",\"wickets\",\"overs\",\"wides\",\"no_balls\",\"fours\",\"sixes\",\"zeros\",\"player_id\",\"scorecard_id\",\"match_number\",\"series_id\",\"match_detail_id\",\"runs\",\"over\",\"match_id\",\"opp_team_id\",\"team_id\"]]"
   ]
  },
  {
   "cell_type": "code",
   "execution_count": 33,
   "id": "24d29e6d",
   "metadata": {},
   "outputs": [
    {
     "data": {
      "text/html": [
       "<div>\n",
       "<style scoped>\n",
       "    .dataframe tbody tr th:only-of-type {\n",
       "        vertical-align: middle;\n",
       "    }\n",
       "\n",
       "    .dataframe tbody tr th {\n",
       "        vertical-align: top;\n",
       "    }\n",
       "\n",
       "    .dataframe thead th {\n",
       "        text-align: right;\n",
       "    }\n",
       "</style>\n",
       "<table border=\"1\" class=\"dataframe\">\n",
       "  <thead>\n",
       "    <tr style=\"text-align: right;\">\n",
       "      <th></th>\n",
       "      <th>run_conceded</th>\n",
       "      <th>maidens</th>\n",
       "      <th>wickets</th>\n",
       "      <th>overs</th>\n",
       "      <th>wides</th>\n",
       "      <th>no_balls</th>\n",
       "      <th>fours</th>\n",
       "      <th>sixes</th>\n",
       "      <th>zeros</th>\n",
       "      <th>player_id</th>\n",
       "      <th>scorecard_id</th>\n",
       "      <th>match_number</th>\n",
       "      <th>series_id</th>\n",
       "      <th>match_detail_id</th>\n",
       "      <th>runs</th>\n",
       "      <th>over</th>\n",
       "      <th>match_id</th>\n",
       "      <th>opp_team_id</th>\n",
       "      <th>team_id</th>\n",
       "    </tr>\n",
       "  </thead>\n",
       "  <tbody>\n",
       "    <tr>\n",
       "      <th>0</th>\n",
       "      <td>51</td>\n",
       "      <td>0</td>\n",
       "      <td>2</td>\n",
       "      <td>10</td>\n",
       "      <td>3</td>\n",
       "      <td>3</td>\n",
       "      <td>4</td>\n",
       "      <td>0</td>\n",
       "      <td>30</td>\n",
       "      <td>789</td>\n",
       "      <td>1496</td>\n",
       "      <td>1</td>\n",
       "      <td>182</td>\n",
       "      <td>773</td>\n",
       "      <td>234</td>\n",
       "      <td>50</td>\n",
       "      <td>633</td>\n",
       "      <td>2</td>\n",
       "      <td>7</td>\n",
       "    </tr>\n",
       "    <tr>\n",
       "      <th>1</th>\n",
       "      <td>67</td>\n",
       "      <td>0</td>\n",
       "      <td>2</td>\n",
       "      <td>10</td>\n",
       "      <td>3</td>\n",
       "      <td>0</td>\n",
       "      <td>4</td>\n",
       "      <td>0</td>\n",
       "      <td>30</td>\n",
       "      <td>850</td>\n",
       "      <td>1495</td>\n",
       "      <td>1</td>\n",
       "      <td>182</td>\n",
       "      <td>773</td>\n",
       "      <td>245</td>\n",
       "      <td>50</td>\n",
       "      <td>633</td>\n",
       "      <td>7</td>\n",
       "      <td>2</td>\n",
       "    </tr>\n",
       "    <tr>\n",
       "      <th>2</th>\n",
       "      <td>29</td>\n",
       "      <td>0</td>\n",
       "      <td>1</td>\n",
       "      <td>6</td>\n",
       "      <td>1</td>\n",
       "      <td>0</td>\n",
       "      <td>4</td>\n",
       "      <td>0</td>\n",
       "      <td>30</td>\n",
       "      <td>848</td>\n",
       "      <td>1495</td>\n",
       "      <td>1</td>\n",
       "      <td>182</td>\n",
       "      <td>773</td>\n",
       "      <td>245</td>\n",
       "      <td>50</td>\n",
       "      <td>633</td>\n",
       "      <td>7</td>\n",
       "      <td>2</td>\n",
       "    </tr>\n",
       "    <tr>\n",
       "      <th>3</th>\n",
       "      <td>39</td>\n",
       "      <td>1</td>\n",
       "      <td>2</td>\n",
       "      <td>9</td>\n",
       "      <td>3</td>\n",
       "      <td>0</td>\n",
       "      <td>4</td>\n",
       "      <td>0</td>\n",
       "      <td>30</td>\n",
       "      <td>851</td>\n",
       "      <td>1495</td>\n",
       "      <td>1</td>\n",
       "      <td>182</td>\n",
       "      <td>773</td>\n",
       "      <td>245</td>\n",
       "      <td>50</td>\n",
       "      <td>633</td>\n",
       "      <td>7</td>\n",
       "      <td>2</td>\n",
       "    </tr>\n",
       "    <tr>\n",
       "      <th>4</th>\n",
       "      <td>43</td>\n",
       "      <td>0</td>\n",
       "      <td>1</td>\n",
       "      <td>10</td>\n",
       "      <td>2</td>\n",
       "      <td>0</td>\n",
       "      <td>4</td>\n",
       "      <td>0</td>\n",
       "      <td>30</td>\n",
       "      <td>849</td>\n",
       "      <td>1495</td>\n",
       "      <td>1</td>\n",
       "      <td>182</td>\n",
       "      <td>773</td>\n",
       "      <td>245</td>\n",
       "      <td>50</td>\n",
       "      <td>633</td>\n",
       "      <td>7</td>\n",
       "      <td>2</td>\n",
       "    </tr>\n",
       "    <tr>\n",
       "      <th>...</th>\n",
       "      <td>...</td>\n",
       "      <td>...</td>\n",
       "      <td>...</td>\n",
       "      <td>...</td>\n",
       "      <td>...</td>\n",
       "      <td>...</td>\n",
       "      <td>...</td>\n",
       "      <td>...</td>\n",
       "      <td>...</td>\n",
       "      <td>...</td>\n",
       "      <td>...</td>\n",
       "      <td>...</td>\n",
       "      <td>...</td>\n",
       "      <td>...</td>\n",
       "      <td>...</td>\n",
       "      <td>...</td>\n",
       "      <td>...</td>\n",
       "      <td>...</td>\n",
       "      <td>...</td>\n",
       "    </tr>\n",
       "    <tr>\n",
       "      <th>36144</th>\n",
       "      <td>28</td>\n",
       "      <td>1</td>\n",
       "      <td>2</td>\n",
       "      <td>4</td>\n",
       "      <td>0</td>\n",
       "      <td>0</td>\n",
       "      <td>4</td>\n",
       "      <td>0</td>\n",
       "      <td>30</td>\n",
       "      <td>728</td>\n",
       "      <td>6197</td>\n",
       "      <td>36</td>\n",
       "      <td>505</td>\n",
       "      <td>2927</td>\n",
       "      <td>149</td>\n",
       "      <td>20</td>\n",
       "      <td>2930</td>\n",
       "      <td>37</td>\n",
       "      <td>35</td>\n",
       "    </tr>\n",
       "    <tr>\n",
       "      <th>36145</th>\n",
       "      <td>29</td>\n",
       "      <td>0</td>\n",
       "      <td>1</td>\n",
       "      <td>4</td>\n",
       "      <td>1</td>\n",
       "      <td>0</td>\n",
       "      <td>4</td>\n",
       "      <td>0</td>\n",
       "      <td>30</td>\n",
       "      <td>1379</td>\n",
       "      <td>6197</td>\n",
       "      <td>36</td>\n",
       "      <td>505</td>\n",
       "      <td>2927</td>\n",
       "      <td>149</td>\n",
       "      <td>20</td>\n",
       "      <td>2930</td>\n",
       "      <td>37</td>\n",
       "      <td>35</td>\n",
       "    </tr>\n",
       "    <tr>\n",
       "      <th>36146</th>\n",
       "      <td>19</td>\n",
       "      <td>1</td>\n",
       "      <td>2</td>\n",
       "      <td>4</td>\n",
       "      <td>1</td>\n",
       "      <td>0</td>\n",
       "      <td>4</td>\n",
       "      <td>0</td>\n",
       "      <td>30</td>\n",
       "      <td>1348</td>\n",
       "      <td>6197</td>\n",
       "      <td>36</td>\n",
       "      <td>505</td>\n",
       "      <td>2927</td>\n",
       "      <td>149</td>\n",
       "      <td>20</td>\n",
       "      <td>2930</td>\n",
       "      <td>37</td>\n",
       "      <td>35</td>\n",
       "    </tr>\n",
       "    <tr>\n",
       "      <th>36147</th>\n",
       "      <td>29</td>\n",
       "      <td>0</td>\n",
       "      <td>2</td>\n",
       "      <td>4</td>\n",
       "      <td>0</td>\n",
       "      <td>0</td>\n",
       "      <td>4</td>\n",
       "      <td>0</td>\n",
       "      <td>30</td>\n",
       "      <td>599</td>\n",
       "      <td>6197</td>\n",
       "      <td>36</td>\n",
       "      <td>505</td>\n",
       "      <td>2927</td>\n",
       "      <td>149</td>\n",
       "      <td>20</td>\n",
       "      <td>2930</td>\n",
       "      <td>37</td>\n",
       "      <td>35</td>\n",
       "    </tr>\n",
       "    <tr>\n",
       "      <th>36148</th>\n",
       "      <td>41</td>\n",
       "      <td>0</td>\n",
       "      <td>0</td>\n",
       "      <td>4</td>\n",
       "      <td>0</td>\n",
       "      <td>0</td>\n",
       "      <td>4</td>\n",
       "      <td>0</td>\n",
       "      <td>30</td>\n",
       "      <td>633</td>\n",
       "      <td>6197</td>\n",
       "      <td>36</td>\n",
       "      <td>505</td>\n",
       "      <td>2927</td>\n",
       "      <td>149</td>\n",
       "      <td>20</td>\n",
       "      <td>2930</td>\n",
       "      <td>37</td>\n",
       "      <td>35</td>\n",
       "    </tr>\n",
       "  </tbody>\n",
       "</table>\n",
       "<p>36149 rows × 19 columns</p>\n",
       "</div>"
      ],
      "text/plain": [
       "       run_conceded  maidens  wickets  overs  wides  no_balls  fours  sixes  \\\n",
       "0                51        0        2     10      3         3      4      0   \n",
       "1                67        0        2     10      3         0      4      0   \n",
       "2                29        0        1      6      1         0      4      0   \n",
       "3                39        1        2      9      3         0      4      0   \n",
       "4                43        0        1     10      2         0      4      0   \n",
       "...             ...      ...      ...    ...    ...       ...    ...    ...   \n",
       "36144            28        1        2      4      0         0      4      0   \n",
       "36145            29        0        1      4      1         0      4      0   \n",
       "36146            19        1        2      4      1         0      4      0   \n",
       "36147            29        0        2      4      0         0      4      0   \n",
       "36148            41        0        0      4      0         0      4      0   \n",
       "\n",
       "       zeros  player_id  scorecard_id  match_number  series_id  \\\n",
       "0         30        789          1496             1        182   \n",
       "1         30        850          1495             1        182   \n",
       "2         30        848          1495             1        182   \n",
       "3         30        851          1495             1        182   \n",
       "4         30        849          1495             1        182   \n",
       "...      ...        ...           ...           ...        ...   \n",
       "36144     30        728          6197            36        505   \n",
       "36145     30       1379          6197            36        505   \n",
       "36146     30       1348          6197            36        505   \n",
       "36147     30        599          6197            36        505   \n",
       "36148     30        633          6197            36        505   \n",
       "\n",
       "       match_detail_id  runs  over  match_id  opp_team_id  team_id  \n",
       "0                  773   234    50       633            2        7  \n",
       "1                  773   245    50       633            7        2  \n",
       "2                  773   245    50       633            7        2  \n",
       "3                  773   245    50       633            7        2  \n",
       "4                  773   245    50       633            7        2  \n",
       "...                ...   ...   ...       ...          ...      ...  \n",
       "36144             2927   149    20      2930           37       35  \n",
       "36145             2927   149    20      2930           37       35  \n",
       "36146             2927   149    20      2930           37       35  \n",
       "36147             2927   149    20      2930           37       35  \n",
       "36148             2927   149    20      2930           37       35  \n",
       "\n",
       "[36149 rows x 19 columns]"
      ]
     },
     "execution_count": 33,
     "metadata": {},
     "output_type": "execute_result"
    }
   ],
   "source": [
    "x"
   ]
  },
  {
   "cell_type": "code",
   "execution_count": 34,
   "id": "16410e2a",
   "metadata": {},
   "outputs": [],
   "source": [
    "y=df1[[\"economy\"]]"
   ]
  },
  {
   "cell_type": "code",
   "execution_count": 35,
   "id": "0336dc11",
   "metadata": {},
   "outputs": [
    {
     "data": {
      "text/html": [
       "<div>\n",
       "<style scoped>\n",
       "    .dataframe tbody tr th:only-of-type {\n",
       "        vertical-align: middle;\n",
       "    }\n",
       "\n",
       "    .dataframe tbody tr th {\n",
       "        vertical-align: top;\n",
       "    }\n",
       "\n",
       "    .dataframe thead th {\n",
       "        text-align: right;\n",
       "    }\n",
       "</style>\n",
       "<table border=\"1\" class=\"dataframe\">\n",
       "  <thead>\n",
       "    <tr style=\"text-align: right;\">\n",
       "      <th></th>\n",
       "      <th>economy</th>\n",
       "    </tr>\n",
       "  </thead>\n",
       "  <tbody>\n",
       "    <tr>\n",
       "      <th>0</th>\n",
       "      <td>5</td>\n",
       "    </tr>\n",
       "    <tr>\n",
       "      <th>1</th>\n",
       "      <td>6</td>\n",
       "    </tr>\n",
       "    <tr>\n",
       "      <th>2</th>\n",
       "      <td>4</td>\n",
       "    </tr>\n",
       "    <tr>\n",
       "      <th>3</th>\n",
       "      <td>4</td>\n",
       "    </tr>\n",
       "    <tr>\n",
       "      <th>4</th>\n",
       "      <td>4</td>\n",
       "    </tr>\n",
       "    <tr>\n",
       "      <th>...</th>\n",
       "      <td>...</td>\n",
       "    </tr>\n",
       "    <tr>\n",
       "      <th>36144</th>\n",
       "      <td>7</td>\n",
       "    </tr>\n",
       "    <tr>\n",
       "      <th>36145</th>\n",
       "      <td>7</td>\n",
       "    </tr>\n",
       "    <tr>\n",
       "      <th>36146</th>\n",
       "      <td>4</td>\n",
       "    </tr>\n",
       "    <tr>\n",
       "      <th>36147</th>\n",
       "      <td>7</td>\n",
       "    </tr>\n",
       "    <tr>\n",
       "      <th>36148</th>\n",
       "      <td>10</td>\n",
       "    </tr>\n",
       "  </tbody>\n",
       "</table>\n",
       "<p>36149 rows × 1 columns</p>\n",
       "</div>"
      ],
      "text/plain": [
       "       economy\n",
       "0            5\n",
       "1            6\n",
       "2            4\n",
       "3            4\n",
       "4            4\n",
       "...        ...\n",
       "36144        7\n",
       "36145        7\n",
       "36146        4\n",
       "36147        7\n",
       "36148       10\n",
       "\n",
       "[36149 rows x 1 columns]"
      ]
     },
     "execution_count": 35,
     "metadata": {},
     "output_type": "execute_result"
    }
   ],
   "source": [
    "y"
   ]
  },
  {
   "cell_type": "code",
   "execution_count": 36,
   "id": "9e06abd9",
   "metadata": {},
   "outputs": [],
   "source": [
    "from sklearn.ensemble import RandomForestRegressor\n",
    "from sklearn.preprocessing import StandardScaler\n",
    "\n",
    "sc_x = StandardScaler()\n",
    "x = sc_x.fit_transform(x)"
   ]
  },
  {
   "cell_type": "code",
   "execution_count": 37,
   "id": "7b5aadb6",
   "metadata": {},
   "outputs": [],
   "source": [
    "xtrain, xtest, ytrain, ytest = train_test_split(x, y, test_size = 0.3,random_state=1000)\n"
   ]
  },
  {
   "cell_type": "code",
   "execution_count": 38,
   "id": "376dcdf3",
   "metadata": {},
   "outputs": [],
   "source": [
    "rf_regressor=RandomForestRegressor(n_estimators=1000,random_state=1000)\n",
    "svc_regressor=SVR()\n",
    "dt_regressor=DecisionTreeRegressor()"
   ]
  },
  {
   "cell_type": "code",
   "execution_count": null,
   "id": "76ed3347",
   "metadata": {},
   "outputs": [],
   "source": [
    "svc_regressor.fit(xtrain, ytrain)\n",
    "dt_regressor.fit(xtrain, ytrain)\n",
    "rf_regressor.fit(xtrain, ytrain)\n"
   ]
  },
  {
   "cell_type": "code",
   "execution_count": null,
   "id": "500e3d94",
   "metadata": {},
   "outputs": [],
   "source": [
    "svc_reg_ypred = svc_regressor.predict(xtest)\n",
    "dt_reg_ypred = dt_regressor.predict(xtest)\n",
    "rf_reg_ypred = rf_regressor.predict(xtest)"
   ]
  },
  {
   "cell_type": "code",
   "execution_count": null,
   "id": "674dd36b",
   "metadata": {},
   "outputs": [],
   "source": [
    "# finding error\n",
    "svc_reg_err = mean_squared_error(ytest, svc_reg_ypred)\n",
    "dt_reg_err = mean_squared_error(ytest, dt_reg_ypred)\n",
    "rf_reg_err = mean_squared_error(ytest, rf_reg_ypred)"
   ]
  },
  {
   "cell_type": "code",
   "execution_count": null,
   "id": "636843a8",
   "metadata": {},
   "outputs": [],
   "source": [
    "print (\"Decision Tree error                : \", round(dt_reg_err, 2))\n",
    "print (\"Random Forest error                : \", round(rf_reg_err, 2)) \n",
    "print (\"Support Vector Machine error       : \", round(svc_reg_err, 2)) "
   ]
  },
  {
   "cell_type": "markdown",
   "id": "c46cc37b",
   "metadata": {},
   "source": [
    "## 3.predection of batman's strikerate "
   ]
  },
  {
   "cell_type": "code",
   "execution_count": null,
   "id": "4eb40863",
   "metadata": {},
   "outputs": [],
   "source": [
    "df2=pd.read_csv(\"bat.csv\")"
   ]
  },
  {
   "cell_type": "code",
   "execution_count": null,
   "id": "e2bf007f",
   "metadata": {},
   "outputs": [],
   "source": [
    "df2.head(2)"
   ]
  },
  {
   "cell_type": "code",
   "execution_count": null,
   "id": "6b7a9231",
   "metadata": {},
   "outputs": [],
   "source": [
    "df2.isnull().sum()"
   ]
  },
  {
   "cell_type": "markdown",
   "id": "03371e5d",
   "metadata": {},
   "source": [
    "### Handeling null"
   ]
  },
  {
   "cell_type": "code",
   "execution_count": null,
   "id": "b8987af4",
   "metadata": {},
   "outputs": [],
   "source": [
    "i1=SimpleImputer(missing_values=np.nan,strategy='most_frequent',) #inspite of mean we can use median mode or any\n",
    "i1.fit(df2.iloc[:,2:3].values)\n",
    "x=i1.transform(df2.iloc[:,2:3].values)\n",
    "df2.iloc[:,2:3]=x"
   ]
  },
  {
   "cell_type": "code",
   "execution_count": null,
   "id": "28626b9c",
   "metadata": {},
   "outputs": [],
   "source": [
    "i2=SimpleImputer(missing_values=np.nan,strategy='most_frequent',) #inspite of mean we can use median mode or any\n",
    "i2.fit(df2.iloc[:,11:12].values)\n",
    "x=i2.transform(df2.iloc[:,11:12].values)\n",
    "df2.iloc[:,11:12]=x"
   ]
  },
  {
   "cell_type": "code",
   "execution_count": null,
   "id": "3009adee",
   "metadata": {},
   "outputs": [],
   "source": [
    "i3=SimpleImputer(missing_values=np.nan,strategy='most_frequent',) #inspite of mean we can use median mode or any\n",
    "i3.fit(df2.iloc[:,15:16].values)\n",
    "x=i3.transform(df2.iloc[:,15:16].values)\n",
    "df2.iloc[:,15:16]=x"
   ]
  },
  {
   "cell_type": "code",
   "execution_count": null,
   "id": "0450d577",
   "metadata": {},
   "outputs": [],
   "source": [
    "i4=SimpleImputer(missing_values=np.nan,strategy='most_frequent',) #inspite of mean we can use median mode or any\n",
    "i4.fit(df2.iloc[:,10:11].values)\n",
    "x=i4.transform(df2.iloc[:,10:11].values)\n",
    "df2.iloc[:,10:11]=x"
   ]
  },
  {
   "cell_type": "code",
   "execution_count": null,
   "id": "461571d2",
   "metadata": {},
   "outputs": [],
   "source": [
    "i5=SimpleImputer(missing_values=np.nan,strategy='most_frequent',) #inspite of mean we can use median mode or any\n",
    "i5.fit(df2.iloc[:,16:17].values)\n",
    "x=i5.transform(df2.iloc[:,16:17].values)\n",
    "df2.iloc[:,16:17]=x"
   ]
  },
  {
   "cell_type": "code",
   "execution_count": null,
   "id": "5c5247c9",
   "metadata": {},
   "outputs": [],
   "source": [
    "i6=SimpleImputer(missing_values=np.nan,strategy='most_frequent',) #inspite of mean we can use median mode or any\n",
    "i6.fit(df2.iloc[:,18:19].values)\n",
    "x=i6.transform(df2.iloc[:,18:19].values)\n",
    "df2.iloc[:,18:19]=x"
   ]
  },
  {
   "cell_type": "code",
   "execution_count": null,
   "id": "e3c16abb",
   "metadata": {},
   "outputs": [],
   "source": [
    "df2.isnull().sum()"
   ]
  },
  {
   "cell_type": "code",
   "execution_count": null,
   "id": "d8269038",
   "metadata": {},
   "outputs": [],
   "source": [
    "df2.dtypes"
   ]
  },
  {
   "cell_type": "code",
   "execution_count": null,
   "id": "07bddc94",
   "metadata": {},
   "outputs": [],
   "source": [
    "df2[\"strike_rate\"]=df2[\"strike_rate\"].astype(int)\n",
    "df2[\"fall_of_wicket\"]=df2[\"fall_of_wicket\"].astype(int)\n",
    "df2[\"fall_of_wicket_over\"]=df2[\"fall_of_wicket_over\"].astype(int)\n",
    "df2[\"match_number\"]=df2[\"match_number\"].astype(int)\n",
    "df2[\"over\"]=df2[\"over\"].astype(int)\n",
    "df2[\"run_rate\"]=df2[\"run_rate\"].astype(int)"
   ]
  },
  {
   "cell_type": "code",
   "execution_count": null,
   "id": "fd2f6e5a",
   "metadata": {},
   "outputs": [],
   "source": [
    "df2.dtypes"
   ]
  },
  {
   "cell_type": "markdown",
   "id": "203ec491",
   "metadata": {},
   "source": [
    "### visualization"
   ]
  },
  {
   "cell_type": "code",
   "execution_count": null,
   "id": "5c580a0a",
   "metadata": {},
   "outputs": [],
   "source": [
    "df2.head(2)"
   ]
  },
  {
   "cell_type": "code",
   "execution_count": null,
   "id": "8151b6aa",
   "metadata": {},
   "outputs": [],
   "source": [
    "xtsne=df2[[\"id\",\"order\",\"runs_x\",\"balls\",\"fours\",\"sixes\",\"fall_of_wicket\",\"fall_of_wicket_over\",\"player_id\",\"scorecard_id\",\"match_number\",\"series_id\",\"match_detail_id\",\"runs_y\",\"over\",\"run_rate\",\"match_id\",\"opp_team_id\",\"team_id\"]]"
   ]
  },
  {
   "cell_type": "code",
   "execution_count": null,
   "id": "5bef4051",
   "metadata": {},
   "outputs": [],
   "source": [
    "xtsne"
   ]
  },
  {
   "cell_type": "code",
   "execution_count": null,
   "id": "22b9dfba",
   "metadata": {},
   "outputs": [],
   "source": [
    "ytsne=df2[[\"strike_rate\"]]"
   ]
  },
  {
   "cell_type": "code",
   "execution_count": null,
   "id": "695983f4",
   "metadata": {},
   "outputs": [],
   "source": [
    "ytsne"
   ]
  },
  {
   "cell_type": "code",
   "execution_count": null,
   "id": "827f96a0",
   "metadata": {},
   "outputs": [],
   "source": [
    "tsne=TSNE(n_components=2,random_state=0,n_iter=1000).fit_transform(xtsne)"
   ]
  },
  {
   "cell_type": "code",
   "execution_count": null,
   "id": "275c968f",
   "metadata": {},
   "outputs": [],
   "source": [
    "plt.figure(figsize=(12,8))\n",
    "sns.scatterplot(x=tsne[:,0],y=tsne[:,1],hue=df2['strike_rate'])\n",
    "plt.show()"
   ]
  },
  {
   "cell_type": "markdown",
   "id": "280d2f30",
   "metadata": {},
   "source": [
    "### corelation matrix using heatmap"
   ]
  },
  {
   "cell_type": "code",
   "execution_count": null,
   "id": "3bdb7c2c",
   "metadata": {},
   "outputs": [],
   "source": [
    "plt.figure(figsize=(12, 10))\n",
    "heatmap = sns.heatmap(df2[[\"id\",\"order\",\"runs_x\",\"balls\",\"fours\",\"sixes\",\"fall_of_wicket\",\"fall_of_wicket_over\",\"player_id\",\"scorecard_id\",\"match_number\",\"series_id\",\"match_detail_id\",\"runs_y\",\"over\",\"run_rate\",\"match_id\",\"opp_team_id\",\"team_id\",\"strike_rate\"]].corr(), annot=True,linewidths=2)\n"
   ]
  },
  {
   "cell_type": "markdown",
   "id": "97874160",
   "metadata": {},
   "source": [
    "# bar graphs and pie graphs\n"
   ]
  },
  {
   "cell_type": "code",
   "execution_count": null,
   "id": "87ce1652",
   "metadata": {},
   "outputs": [],
   "source": [
    "df2.groupby(\"matchtype\").size().plot(kind = 'bar')"
   ]
  },
  {
   "cell_type": "code",
   "execution_count": null,
   "id": "030ceb9b",
   "metadata": {},
   "outputs": [],
   "source": [
    "df2.columns"
   ]
  },
  {
   "cell_type": "code",
   "execution_count": null,
   "id": "86e9533a",
   "metadata": {},
   "outputs": [],
   "source": [
    "df2.groupby(\"playing_role\").size().plot(kind = 'bar')"
   ]
  },
  {
   "cell_type": "markdown",
   "id": "9beb59db",
   "metadata": {},
   "source": [
    "### prediction"
   ]
  },
  {
   "cell_type": "code",
   "execution_count": null,
   "id": "528a1840",
   "metadata": {},
   "outputs": [],
   "source": [
    "x=df2[[\"id\",\"order\",\"runs_x\",\"balls\",\"fours\",\"sixes\",\"fall_of_wicket\",\"fall_of_wicket_over\",\"player_id\",\"scorecard_id\",\"match_number\",\"series_id\",\"match_detail_id\",\"runs_y\",\"over\",\"run_rate\",\"match_id\",\"opp_team_id\",\"team_id\"]]"
   ]
  },
  {
   "cell_type": "code",
   "execution_count": null,
   "id": "a4c9448b",
   "metadata": {},
   "outputs": [],
   "source": [
    "x"
   ]
  },
  {
   "cell_type": "code",
   "execution_count": null,
   "id": "c99fb800",
   "metadata": {},
   "outputs": [],
   "source": [
    "y=df2[[\"strike_rate\"]]\n",
    "y"
   ]
  },
  {
   "cell_type": "code",
   "execution_count": null,
   "id": "21dac930",
   "metadata": {},
   "outputs": [],
   "source": [
    "from sklearn.ensemble import RandomForestRegressor\n",
    "from sklearn.preprocessing import StandardScaler\n",
    "\n",
    "sc_x = StandardScaler()\n",
    "x = sc_x.fit_transform(x)"
   ]
  },
  {
   "cell_type": "code",
   "execution_count": null,
   "id": "202aa894",
   "metadata": {},
   "outputs": [],
   "source": [
    "xtrain, xtest, ytrain, ytest = train_test_split(x, y, test_size = 0.3,random_state=1000)"
   ]
  },
  {
   "cell_type": "code",
   "execution_count": null,
   "id": "948681aa",
   "metadata": {},
   "outputs": [],
   "source": [
    "rf_regressor=RandomForestRegressor(n_estimators=1000,random_state=1000)\n",
    "svc_regressor=SVR()\n",
    "dt_regressor=DecisionTreeRegressor()"
   ]
  },
  {
   "cell_type": "code",
   "execution_count": null,
   "id": "143a819f",
   "metadata": {},
   "outputs": [],
   "source": [
    "svc_regressor.fit(xtrain, ytrain)\n",
    "dt_regressor.fit(xtrain, ytrain)\n",
    "rf_regressor.fit(xtrain, ytrain)\n"
   ]
  },
  {
   "cell_type": "code",
   "execution_count": null,
   "id": "4417e8b2",
   "metadata": {},
   "outputs": [],
   "source": [
    "svc_reg_ypred = svc_regressor.predict(xtest)\n",
    "dt_reg_ypred = dt_regressor.predict(xtest)\n",
    "rf_reg_ypred = rf_regressor.predict(xtest)"
   ]
  },
  {
   "cell_type": "code",
   "execution_count": null,
   "id": "7cb6bfea",
   "metadata": {},
   "outputs": [],
   "source": [
    "# finding accuracy\n",
    "from sklearn.metrics import accuracy_score\n",
    "\n",
    "svc_classifier_acc = accuracy_score(ytest, svc_classifier_ypred)\n",
    "dt_classifier_acc = accuracy_score(ytest, dt_classifier_ypred)\n",
    "rf_classifier_acc = accuracy_score(ytest, rf_classifier_ypred)"
   ]
  },
  {
   "cell_type": "code",
   "execution_count": null,
   "id": "6352aeb7",
   "metadata": {},
   "outputs": [],
   "source": [
    "print (\"Decision Tree error                : \", round(dt_reg_err, 2))\n",
    "print (\"Random Forest error                : \", round(rf_reg_err, 2)) \n",
    "print (\"Support Vector Machine error       : \", round(svc_reg_err, 2)) "
   ]
  },
  {
   "cell_type": "code",
   "execution_count": null,
   "id": "35a6042d",
   "metadata": {},
   "outputs": [],
   "source": []
  },
  {
   "cell_type": "code",
   "execution_count": null,
   "id": "3ed4ed0c",
   "metadata": {},
   "outputs": [],
   "source": []
  }
 ],
 "metadata": {
  "kernelspec": {
   "display_name": "Python 3 (ipykernel)",
   "language": "python",
   "name": "python3"
  },
  "language_info": {
   "codemirror_mode": {
    "name": "ipython",
    "version": 3
   },
   "file_extension": ".py",
   "mimetype": "text/x-python",
   "name": "python",
   "nbconvert_exporter": "python",
   "pygments_lexer": "ipython3",
   "version": "3.9.13"
  }
 },
 "nbformat": 4,
 "nbformat_minor": 5
}
